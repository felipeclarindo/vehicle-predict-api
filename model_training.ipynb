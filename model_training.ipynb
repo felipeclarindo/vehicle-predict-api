{
 "cells": [
  {
   "cell_type": "markdown",
   "metadata": {},
   "source": [
    "# Machine Learning Model (Sprint 4)\n"
   ]
  },
  {
   "cell_type": "markdown",
   "metadata": {},
   "source": [
    "# Importando e instalando bibliotecas\n"
   ]
  },
  {
   "cell_type": "code",
   "execution_count": 1,
   "metadata": {},
   "outputs": [
    {
     "name": "stdout",
     "output_type": "stream",
     "text": [
      "Requirement already satisfied: flask==3.0.3 in d:\\programmer\\faculdade\\fiap\\2° semestre\\challenge\\sprint 4\\ia & chatbot\\resolução\\.venv\\lib\\site-packages (from -r ./requirements.txt (line 1)) (3.0.3)\n",
      "Requirement already satisfied: joblib==1.4.2 in d:\\programmer\\faculdade\\fiap\\2° semestre\\challenge\\sprint 4\\ia & chatbot\\resolução\\.venv\\lib\\site-packages (from -r ./requirements.txt (line 2)) (1.4.2)\n",
      "Requirement already satisfied: pandas==2.2.2 in d:\\programmer\\faculdade\\fiap\\2° semestre\\challenge\\sprint 4\\ia & chatbot\\resolução\\.venv\\lib\\site-packages (from -r ./requirements.txt (line 3)) (2.2.2)\n",
      "Requirement already satisfied: scikit-learn in d:\\programmer\\faculdade\\fiap\\2° semestre\\challenge\\sprint 4\\ia & chatbot\\resolução\\.venv\\lib\\site-packages (from -r ./requirements.txt (line 4)) (1.5.2)\n",
      "Requirement already satisfied: Werkzeug>=3.0.0 in d:\\programmer\\faculdade\\fiap\\2° semestre\\challenge\\sprint 4\\ia & chatbot\\resolução\\.venv\\lib\\site-packages (from flask==3.0.3->-r ./requirements.txt (line 1)) (3.1.1)\n",
      "Requirement already satisfied: Jinja2>=3.1.2 in d:\\programmer\\faculdade\\fiap\\2° semestre\\challenge\\sprint 4\\ia & chatbot\\resolução\\.venv\\lib\\site-packages (from flask==3.0.3->-r ./requirements.txt (line 1)) (3.1.4)\n",
      "Requirement already satisfied: itsdangerous>=2.1.2 in d:\\programmer\\faculdade\\fiap\\2° semestre\\challenge\\sprint 4\\ia & chatbot\\resolução\\.venv\\lib\\site-packages (from flask==3.0.3->-r ./requirements.txt (line 1)) (2.2.0)\n",
      "Requirement already satisfied: click>=8.1.3 in d:\\programmer\\faculdade\\fiap\\2° semestre\\challenge\\sprint 4\\ia & chatbot\\resolução\\.venv\\lib\\site-packages (from flask==3.0.3->-r ./requirements.txt (line 1)) (8.1.7)\n",
      "Requirement already satisfied: blinker>=1.6.2 in d:\\programmer\\faculdade\\fiap\\2° semestre\\challenge\\sprint 4\\ia & chatbot\\resolução\\.venv\\lib\\site-packages (from flask==3.0.3->-r ./requirements.txt (line 1)) (1.8.2)\n",
      "Requirement already satisfied: numpy>=1.26.0 in d:\\programmer\\faculdade\\fiap\\2° semestre\\challenge\\sprint 4\\ia & chatbot\\resolução\\.venv\\lib\\site-packages (from pandas==2.2.2->-r ./requirements.txt (line 3)) (2.1.3)\n",
      "Requirement already satisfied: python-dateutil>=2.8.2 in d:\\programmer\\faculdade\\fiap\\2° semestre\\challenge\\sprint 4\\ia & chatbot\\resolução\\.venv\\lib\\site-packages (from pandas==2.2.2->-r ./requirements.txt (line 3)) (2.9.0.post0)\n",
      "Requirement already satisfied: pytz>=2020.1 in d:\\programmer\\faculdade\\fiap\\2° semestre\\challenge\\sprint 4\\ia & chatbot\\resolução\\.venv\\lib\\site-packages (from pandas==2.2.2->-r ./requirements.txt (line 3)) (2024.2)\n",
      "Requirement already satisfied: tzdata>=2022.7 in d:\\programmer\\faculdade\\fiap\\2° semestre\\challenge\\sprint 4\\ia & chatbot\\resolução\\.venv\\lib\\site-packages (from pandas==2.2.2->-r ./requirements.txt (line 3)) (2024.2)\n",
      "Requirement already satisfied: scipy>=1.6.0 in d:\\programmer\\faculdade\\fiap\\2° semestre\\challenge\\sprint 4\\ia & chatbot\\resolução\\.venv\\lib\\site-packages (from scikit-learn->-r ./requirements.txt (line 4)) (1.14.1)\n",
      "Requirement already satisfied: threadpoolctl>=3.1.0 in d:\\programmer\\faculdade\\fiap\\2° semestre\\challenge\\sprint 4\\ia & chatbot\\resolução\\.venv\\lib\\site-packages (from scikit-learn->-r ./requirements.txt (line 4)) (3.5.0)\n",
      "Requirement already satisfied: colorama in d:\\programmer\\faculdade\\fiap\\2° semestre\\challenge\\sprint 4\\ia & chatbot\\resolução\\.venv\\lib\\site-packages (from click>=8.1.3->flask==3.0.3->-r ./requirements.txt (line 1)) (0.4.6)\n",
      "Requirement already satisfied: MarkupSafe>=2.0 in d:\\programmer\\faculdade\\fiap\\2° semestre\\challenge\\sprint 4\\ia & chatbot\\resolução\\.venv\\lib\\site-packages (from Jinja2>=3.1.2->flask==3.0.3->-r ./requirements.txt (line 1)) (3.0.2)\n",
      "Requirement already satisfied: six>=1.5 in d:\\programmer\\faculdade\\fiap\\2° semestre\\challenge\\sprint 4\\ia & chatbot\\resolução\\.venv\\lib\\site-packages (from python-dateutil>=2.8.2->pandas==2.2.2->-r ./requirements.txt (line 3)) (1.16.0)\n",
      "Note: you may need to restart the kernel to use updated packages.\n"
     ]
    }
   ],
   "source": [
    "%pip install -r ./requirements.txt\n",
    "\n",
    "import pandas as pd\n",
    "from sklearn.model_selection import train_test_split\n",
    "from sklearn.ensemble import RandomForestRegressor\n",
    "from sklearn.metrics import mean_squared_error, r2_score\n",
    "from sklearn.preprocessing import LabelEncoder\n",
    "import joblib\n",
    "from api.utils.utils import create_folder"
   ]
  },
  {
   "cell_type": "markdown",
   "metadata": {},
   "source": [
    "## 1. Pré-processamento dos dados.\n"
   ]
  },
  {
   "cell_type": "code",
   "execution_count": 2,
   "metadata": {},
   "outputs": [
    {
     "data": {
      "text/html": [
       "<div>\n",
       "<style scoped>\n",
       "    .dataframe tbody tr th:only-of-type {\n",
       "        vertical-align: middle;\n",
       "    }\n",
       "\n",
       "    .dataframe tbody tr th {\n",
       "        vertical-align: top;\n",
       "    }\n",
       "\n",
       "    .dataframe thead th {\n",
       "        text-align: right;\n",
       "    }\n",
       "</style>\n",
       "<table border=\"1\" class=\"dataframe\">\n",
       "  <thead>\n",
       "    <tr style=\"text-align: right;\">\n",
       "      <th></th>\n",
       "      <th>ZIP Code</th>\n",
       "      <th>Model Year</th>\n",
       "      <th>Fuel</th>\n",
       "      <th>Make</th>\n",
       "      <th>Duty</th>\n",
       "      <th>Vehicles</th>\n",
       "    </tr>\n",
       "  </thead>\n",
       "  <tbody>\n",
       "    <tr>\n",
       "      <th>0</th>\n",
       "      <td>91302</td>\n",
       "      <td>2009</td>\n",
       "      <td>Unk</td>\n",
       "      <td>OTHER/UNK</td>\n",
       "      <td>Unk</td>\n",
       "      <td>490</td>\n",
       "    </tr>\n",
       "    <tr>\n",
       "      <th>1</th>\n",
       "      <td>93631</td>\n",
       "      <td>2009</td>\n",
       "      <td>Unk</td>\n",
       "      <td>OTHER/UNK</td>\n",
       "      <td>Unk</td>\n",
       "      <td>414</td>\n",
       "    </tr>\n",
       "    <tr>\n",
       "      <th>2</th>\n",
       "      <td>90603</td>\n",
       "      <td>2009</td>\n",
       "      <td>Unk</td>\n",
       "      <td>OTHER/UNK</td>\n",
       "      <td>Unk</td>\n",
       "      <td>504</td>\n",
       "    </tr>\n",
       "    <tr>\n",
       "      <th>3</th>\n",
       "      <td>93561</td>\n",
       "      <td>2009</td>\n",
       "      <td>Unk</td>\n",
       "      <td>OTHER/UNK</td>\n",
       "      <td>Unk</td>\n",
       "      <td>778</td>\n",
       "    </tr>\n",
       "    <tr>\n",
       "      <th>4</th>\n",
       "      <td>94505</td>\n",
       "      <td>2009</td>\n",
       "      <td>Unk</td>\n",
       "      <td>OTHER/UNK</td>\n",
       "      <td>Unk</td>\n",
       "      <td>387</td>\n",
       "    </tr>\n",
       "  </tbody>\n",
       "</table>\n",
       "</div>"
      ],
      "text/plain": [
       "  ZIP Code  Model Year Fuel       Make Duty  Vehicles\n",
       "0    91302        2009  Unk  OTHER/UNK  Unk       490\n",
       "1    93631        2009  Unk  OTHER/UNK  Unk       414\n",
       "2    90603        2009  Unk  OTHER/UNK  Unk       504\n",
       "3    93561        2009  Unk  OTHER/UNK  Unk       778\n",
       "4    94505        2009  Unk  OTHER/UNK  Unk       387"
      ]
     },
     "execution_count": 2,
     "metadata": {},
     "output_type": "execute_result"
    }
   ],
   "source": [
    "data_path = \"./data/vehicle_dataset.csv\"\n",
    "\n",
    "vehicle_data = pd.read_csv(data_path)\n",
    "vehicle_data = vehicle_data.drop(columns=[\"Date\"])\n",
    "vehicle_data[\"Model Year\"]= vehicle_data[\"Model Year\"].replace(\"<2010\", \"2009\").replace(\"Unk\", \"2009\").astype(int)\n",
    "\n",
    "vehicle_data.head()"
   ]
  },
  {
   "cell_type": "markdown",
   "metadata": {},
   "source": [
    "## 2. Armazenando encoders para uso na API.\n"
   ]
  },
  {
   "cell_type": "code",
   "execution_count": 3,
   "metadata": {},
   "outputs": [
    {
     "data": {
      "text/html": [
       "<div>\n",
       "<style scoped>\n",
       "    .dataframe tbody tr th:only-of-type {\n",
       "        vertical-align: middle;\n",
       "    }\n",
       "\n",
       "    .dataframe tbody tr th {\n",
       "        vertical-align: top;\n",
       "    }\n",
       "\n",
       "    .dataframe thead th {\n",
       "        text-align: right;\n",
       "    }\n",
       "</style>\n",
       "<table border=\"1\" class=\"dataframe\">\n",
       "  <thead>\n",
       "    <tr style=\"text-align: right;\">\n",
       "      <th></th>\n",
       "      <th>ZIP Code</th>\n",
       "      <th>Model Year</th>\n",
       "      <th>Fuel</th>\n",
       "      <th>Make</th>\n",
       "      <th>Duty</th>\n",
       "      <th>Vehicles</th>\n",
       "    </tr>\n",
       "  </thead>\n",
       "  <tbody>\n",
       "    <tr>\n",
       "      <th>0</th>\n",
       "      <td>536</td>\n",
       "      <td>2009</td>\n",
       "      <td>9</td>\n",
       "      <td>80</td>\n",
       "      <td>2</td>\n",
       "      <td>490</td>\n",
       "    </tr>\n",
       "    <tr>\n",
       "      <th>1</th>\n",
       "      <td>2032</td>\n",
       "      <td>2009</td>\n",
       "      <td>9</td>\n",
       "      <td>80</td>\n",
       "      <td>2</td>\n",
       "      <td>414</td>\n",
       "    </tr>\n",
       "    <tr>\n",
       "      <th>2</th>\n",
       "      <td>260</td>\n",
       "      <td>2009</td>\n",
       "      <td>9</td>\n",
       "      <td>80</td>\n",
       "      <td>2</td>\n",
       "      <td>504</td>\n",
       "    </tr>\n",
       "    <tr>\n",
       "      <th>3</th>\n",
       "      <td>1984</td>\n",
       "      <td>2009</td>\n",
       "      <td>9</td>\n",
       "      <td>80</td>\n",
       "      <td>2</td>\n",
       "      <td>778</td>\n",
       "    </tr>\n",
       "    <tr>\n",
       "      <th>4</th>\n",
       "      <td>2415</td>\n",
       "      <td>2009</td>\n",
       "      <td>9</td>\n",
       "      <td>80</td>\n",
       "      <td>2</td>\n",
       "      <td>387</td>\n",
       "    </tr>\n",
       "  </tbody>\n",
       "</table>\n",
       "</div>"
      ],
      "text/plain": [
       "   ZIP Code  Model Year  Fuel  Make  Duty  Vehicles\n",
       "0       536        2009     9    80     2       490\n",
       "1      2032        2009     9    80     2       414\n",
       "2       260        2009     9    80     2       504\n",
       "3      1984        2009     9    80     2       778\n",
       "4      2415        2009     9    80     2       387"
      ]
     },
     "execution_count": 3,
     "metadata": {},
     "output_type": "execute_result"
    }
   ],
   "source": [
    "label_encoders = {}\n",
    "for column in [\"ZIP Code\", \"Fuel\", \"Make\", \"Duty\"]:\n",
    "    label_encoder = LabelEncoder()\n",
    "    vehicle_data[column] = label_encoder.fit_transform(vehicle_data[column])\n",
    "    label_encoders[column] = label_encoder\n",
    "\n",
    "vehicle_data.head()"
   ]
  },
  {
   "cell_type": "markdown",
   "metadata": {},
   "source": [
    "## 3. Treinando o Modelo.\n"
   ]
  },
  {
   "cell_type": "code",
   "execution_count": 4,
   "metadata": {},
   "outputs": [
    {
     "name": "stdout",
     "output_type": "stream",
     "text": [
      "Mean Squared Error: 34514.58334330119\n",
      "R2 Score: 0.3917877311578938\n"
     ]
    }
   ],
   "source": [
    "x = vehicle_data.drop(columns=[\"Vehicles\"])\n",
    "y = vehicle_data[\"Vehicles\"]\n",
    "\n",
    "x_train, x_test, y_train, y_test = train_test_split(x, y, test_size=0.2, random_state=42)\n",
    "\n",
    "model = RandomForestRegressor(random_state=42, n_jobs=1)\n",
    "model.fit(x_train, y_train)\n",
    "\n",
    "y_pred = model.predict(x_test)\n",
    "mse = mean_squared_error(y_test, y_pred)\n",
    "r2 = r2_score(y_test, y_pred)\n",
    "\n",
    "print(f\"Mean Squared Error: {mse}\")\n",
    "print(f\"R2 Score: {r2}\")"
   ]
  },
  {
   "cell_type": "markdown",
   "metadata": {},
   "source": [
    "## 4. Salvando o modelo e os encoders.\n"
   ]
  },
  {
   "cell_type": "code",
   "execution_count": 5,
   "metadata": {},
   "outputs": [
    {
     "name": "stdout",
     "output_type": "stream",
     "text": [
      "D:\\Programmer\\Faculdade\\Fiap\\2° Semestre\\Challenge\\Sprint 4\\IA & ChatBot\\Resolução\\models\n"
     ]
    },
    {
     "data": {
      "text/plain": [
       "['./models/label_encoders.joblib']"
      ]
     },
     "execution_count": 5,
     "metadata": {},
     "output_type": "execute_result"
    }
   ],
   "source": [
    "create_folder(\"models\")\n",
    "joblib.dump(model, \"./models/vehicle_regression_model.joblib\")\n",
    "joblib.dump(label_encoders, \"./models/label_encoders.joblib\")"
   ]
  }
 ],
 "metadata": {
  "kernelspec": {
   "display_name": ".venv",
   "language": "python",
   "name": "python3"
  },
  "language_info": {
   "codemirror_mode": {
    "name": "ipython",
    "version": 3
   },
   "file_extension": ".py",
   "mimetype": "text/x-python",
   "name": "python",
   "nbconvert_exporter": "python",
   "pygments_lexer": "ipython3",
   "version": "3.12.4"
  }
 },
 "nbformat": 4,
 "nbformat_minor": 2
}
